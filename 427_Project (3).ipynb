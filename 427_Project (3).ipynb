{
 "cells": [
  {
   "cell_type": "code",
   "execution_count": 9,
   "metadata": {},
   "outputs": [],
   "source": [
    "# Install missing dependencies if needed\n",
    "!pip install scikit-learn tqdm --quiet"
   ]
  },
  {
   "cell_type": "markdown",
   "metadata": {
    "id": "LfnbQGS1KM9w"
   },
   "source": [
    "# Data Preprocessing"
   ]
  },
  {
   "cell_type": "code",
   "execution_count": 10,
   "metadata": {},
   "outputs": [
    {
     "name": "stdout",
     "output_type": "stream",
     "text": [
      "Python executable: /Users/animesh/miniforge3/envs/tfmac/bin/python\n",
      "/Users/animesh/miniforge3/envs/tfmac/bin/python\n",
      "Python 3.9.22\n"
     ]
    }
   ],
   "source": [
    "import sys\n",
    "print(\"Python executable:\", sys.executable)\n",
    "!which python\n",
    "!python --version"
   ]
  },
  {
   "cell_type": "code",
   "execution_count": 11,
   "metadata": {},
   "outputs": [
    {
     "name": "stdout",
     "output_type": "stream",
     "text": [
      "tqdm is available\n"
     ]
    }
   ],
   "source": [
    "try:\n",
    "    import tqdm\n",
    "    print(\"tqdm is available\")\n",
    "except ImportError:\n",
    "    print(\"tqdm is NOT available\")"
   ]
  },
  {
   "cell_type": "code",
   "execution_count": 12,
   "metadata": {},
   "outputs": [
    {
     "name": "stdout",
     "output_type": "stream",
     "text": [
      "Requirement already satisfied: wfdb in /Users/animesh/miniforge3/envs/tfmac/lib/python3.9/site-packages (4.3.0)\n",
      "Requirement already satisfied: aiohttp>=3.10.11 in /Users/animesh/miniforge3/envs/tfmac/lib/python3.9/site-packages (from wfdb) (3.11.18)\n",
      "Requirement already satisfied: fsspec>=2023.10.0 in /Users/animesh/miniforge3/envs/tfmac/lib/python3.9/site-packages (from wfdb) (2025.3.2)\n",
      "Requirement already satisfied: matplotlib>=3.2.2 in /Users/animesh/miniforge3/envs/tfmac/lib/python3.9/site-packages (from wfdb) (3.9.4)\n",
      "Requirement already satisfied: numpy>=1.26.4 in /Users/animesh/miniforge3/envs/tfmac/lib/python3.9/site-packages (from wfdb) (1.26.4)\n",
      "Requirement already satisfied: pandas>=2.2.3 in /Users/animesh/miniforge3/envs/tfmac/lib/python3.9/site-packages (from wfdb) (2.2.3)\n",
      "Requirement already satisfied: requests>=2.8.1 in /Users/animesh/miniforge3/envs/tfmac/lib/python3.9/site-packages (from wfdb) (2.32.3)\n",
      "Requirement already satisfied: scipy>=1.13.0 in /Users/animesh/miniforge3/envs/tfmac/lib/python3.9/site-packages (from wfdb) (1.13.1)\n",
      "Requirement already satisfied: soundfile>=0.10.0 in /Users/animesh/miniforge3/envs/tfmac/lib/python3.9/site-packages (from wfdb) (0.13.1)\n",
      "Requirement already satisfied: aiohappyeyeballs>=2.3.0 in /Users/animesh/miniforge3/envs/tfmac/lib/python3.9/site-packages (from aiohttp>=3.10.11->wfdb) (2.6.1)\n",
      "Requirement already satisfied: aiosignal>=1.1.2 in /Users/animesh/miniforge3/envs/tfmac/lib/python3.9/site-packages (from aiohttp>=3.10.11->wfdb) (1.3.2)\n",
      "Requirement already satisfied: async-timeout<6.0,>=4.0 in /Users/animesh/miniforge3/envs/tfmac/lib/python3.9/site-packages (from aiohttp>=3.10.11->wfdb) (5.0.1)\n",
      "Requirement already satisfied: attrs>=17.3.0 in /Users/animesh/miniforge3/envs/tfmac/lib/python3.9/site-packages (from aiohttp>=3.10.11->wfdb) (25.3.0)\n",
      "Requirement already satisfied: frozenlist>=1.1.1 in /Users/animesh/miniforge3/envs/tfmac/lib/python3.9/site-packages (from aiohttp>=3.10.11->wfdb) (1.6.0)\n",
      "Requirement already satisfied: multidict<7.0,>=4.5 in /Users/animesh/miniforge3/envs/tfmac/lib/python3.9/site-packages (from aiohttp>=3.10.11->wfdb) (6.4.3)\n",
      "Requirement already satisfied: propcache>=0.2.0 in /Users/animesh/miniforge3/envs/tfmac/lib/python3.9/site-packages (from aiohttp>=3.10.11->wfdb) (0.3.1)\n",
      "Requirement already satisfied: yarl<2.0,>=1.17.0 in /Users/animesh/miniforge3/envs/tfmac/lib/python3.9/site-packages (from aiohttp>=3.10.11->wfdb) (1.20.0)\n",
      "Requirement already satisfied: typing-extensions>=4.1.0 in /Users/animesh/miniforge3/envs/tfmac/lib/python3.9/site-packages (from multidict<7.0,>=4.5->aiohttp>=3.10.11->wfdb) (4.13.2)\n",
      "Requirement already satisfied: idna>=2.0 in /Users/animesh/miniforge3/envs/tfmac/lib/python3.9/site-packages (from yarl<2.0,>=1.17.0->aiohttp>=3.10.11->wfdb) (3.10)\n",
      "Requirement already satisfied: contourpy>=1.0.1 in /Users/animesh/miniforge3/envs/tfmac/lib/python3.9/site-packages (from matplotlib>=3.2.2->wfdb) (1.3.0)\n",
      "Requirement already satisfied: cycler>=0.10 in /Users/animesh/miniforge3/envs/tfmac/lib/python3.9/site-packages (from matplotlib>=3.2.2->wfdb) (0.12.1)\n",
      "Requirement already satisfied: fonttools>=4.22.0 in /Users/animesh/miniforge3/envs/tfmac/lib/python3.9/site-packages (from matplotlib>=3.2.2->wfdb) (4.58.0)\n",
      "Requirement already satisfied: kiwisolver>=1.3.1 in /Users/animesh/miniforge3/envs/tfmac/lib/python3.9/site-packages (from matplotlib>=3.2.2->wfdb) (1.4.7)\n",
      "Requirement already satisfied: packaging>=20.0 in /Users/animesh/miniforge3/envs/tfmac/lib/python3.9/site-packages (from matplotlib>=3.2.2->wfdb) (25.0)\n",
      "Requirement already satisfied: pillow>=8 in /Users/animesh/miniforge3/envs/tfmac/lib/python3.9/site-packages (from matplotlib>=3.2.2->wfdb) (11.2.1)\n",
      "Requirement already satisfied: pyparsing>=2.3.1 in /Users/animesh/miniforge3/envs/tfmac/lib/python3.9/site-packages (from matplotlib>=3.2.2->wfdb) (3.2.3)\n",
      "Requirement already satisfied: python-dateutil>=2.7 in /Users/animesh/miniforge3/envs/tfmac/lib/python3.9/site-packages (from matplotlib>=3.2.2->wfdb) (2.9.0.post0)\n",
      "Requirement already satisfied: importlib-resources>=3.2.0 in /Users/animesh/miniforge3/envs/tfmac/lib/python3.9/site-packages (from matplotlib>=3.2.2->wfdb) (6.5.2)\n",
      "Requirement already satisfied: zipp>=3.1.0 in /Users/animesh/miniforge3/envs/tfmac/lib/python3.9/site-packages (from importlib-resources>=3.2.0->matplotlib>=3.2.2->wfdb) (3.21.0)\n",
      "Requirement already satisfied: pytz>=2020.1 in /Users/animesh/miniforge3/envs/tfmac/lib/python3.9/site-packages (from pandas>=2.2.3->wfdb) (2025.2)\n",
      "Requirement already satisfied: tzdata>=2022.7 in /Users/animesh/miniforge3/envs/tfmac/lib/python3.9/site-packages (from pandas>=2.2.3->wfdb) (2025.2)\n",
      "Requirement already satisfied: six>=1.5 in /Users/animesh/miniforge3/envs/tfmac/lib/python3.9/site-packages (from python-dateutil>=2.7->matplotlib>=3.2.2->wfdb) (1.17.0)\n",
      "Requirement already satisfied: charset_normalizer<4,>=2 in /Users/animesh/miniforge3/envs/tfmac/lib/python3.9/site-packages (from requests>=2.8.1->wfdb) (3.4.2)\n",
      "Requirement already satisfied: urllib3<3,>=1.21.1 in /Users/animesh/miniforge3/envs/tfmac/lib/python3.9/site-packages (from requests>=2.8.1->wfdb) (2.4.0)\n",
      "Requirement already satisfied: certifi>=2017.4.17 in /Users/animesh/miniforge3/envs/tfmac/lib/python3.9/site-packages (from requests>=2.8.1->wfdb) (2025.4.26)\n",
      "Requirement already satisfied: cffi>=1.0 in /Users/animesh/miniforge3/envs/tfmac/lib/python3.9/site-packages (from soundfile>=0.10.0->wfdb) (1.17.1)\n",
      "Requirement already satisfied: pycparser in /Users/animesh/miniforge3/envs/tfmac/lib/python3.9/site-packages (from cffi>=1.0->soundfile>=0.10.0->wfdb) (2.22)\n"
     ]
    }
   ],
   "source": [
    "# 1. Install and Import Dependencies\n",
    "# Ensure this cell is run and wfdb is installed successfully\n",
    "!pip install wfdb\n",
    "\n",
    "import os\n",
    "import numpy as np\n",
    "import wfdb\n",
    "from scipy.signal import butter, filtfilt\n",
    "from tqdm import tqdm\n",
    "import zipfile # Added for completeness, though your original code had it\n",
    "from sklearn.model_selection import train_test_split # We'll use this for splitting patient records\n",
    "import pandas as pd\n",
    "import matplotlib.pyplot as plt\n",
    "from wfdb import processing # For R-peak detection\n",
    "from scipy.signal import welch\n",
    "from scipy.integrate import trapezoid\n",
    "import tensorflow as tf\n",
    "from tensorflow.keras import layers, models\n",
    "import platform"
   ]
  },
  {
   "cell_type": "code",
   "execution_count": 13,
   "metadata": {},
   "outputs": [
    {
     "name": "stdout",
     "output_type": "stream",
     "text": [
      "Platform: macOS-15.4.1-arm64-arm-64bit\n",
      "Processor: arm\n",
      "Is Apple Silicon: True\n",
      "TensorFlow version: 2.16.2\n",
      "Available devices: [PhysicalDevice(name='/physical_device:CPU:0', device_type='CPU'), PhysicalDevice(name='/physical_device:GPU:0', device_type='GPU')]\n",
      "Configuring TensorFlow for Apple Silicon...\n",
      "Mixed precision enabled\n",
      "GPU memory growth enabled for 1 device(s)\n"
     ]
    }
   ],
   "source": [
    "import os\n",
    "import platform\n",
    "\n",
    "# Enable Metal acceleration for Apple Silicon\n",
    "os.environ['TF_METAL_DEVICE_FORCE_MEMORY_GROWTH'] = 'true'\n",
    "\n",
    "print(f\"Platform: {platform.platform()}\")\n",
    "print(f\"Processor: {platform.processor()}\")\n",
    "\n",
    "is_apple_silicon = platform.processor() == 'arm'\n",
    "print(f\"Is Apple Silicon: {is_apple_silicon}\")\n",
    "\n",
    "try:\n",
    "    import tensorflow as tf\n",
    "    print(f\"TensorFlow version: {tf.__version__}\")\n",
    "    print(f\"Available devices: {tf.config.list_physical_devices()}\")\n",
    "    if is_apple_silicon:\n",
    "        print(\"Configuring TensorFlow for Apple Silicon...\")\n",
    "        tf.keras.mixed_precision.set_global_policy('mixed_float16')\n",
    "        print(\"Mixed precision enabled\")\n",
    "        gpus = tf.config.list_physical_devices('GPU')\n",
    "        if gpus:\n",
    "            for gpu in gpus:\n",
    "                tf.config.experimental.set_memory_growth(gpu, True)\n",
    "            print(f\"GPU memory growth enabled for {len(gpus)} device(s)\")\n",
    "except ImportError:\n",
    "    print(\"TensorFlow not installed. Install with: pip install tensorflow-macos tensorflow-metal\")"
   ]
  },
  {
   "cell_type": "code",
   "execution_count": 14,
   "metadata": {
    "id": "OVKGAQ8sHhxE"
   },
   "outputs": [
    {
     "name": "stdout",
     "output_type": "stream",
     "text": [
      "Using existing directory 'afdb/'\n",
      "Found 23 records with .dat files.\n"
     ]
    },
    {
     "name": "stderr",
     "output_type": "stream",
     "text": [
      "Determining patient-level AF status for stratification: 100%|████████████████████████████████████████████████████████| 23/23 [00:00<00:00, 559.49it/s]\n"
     ]
    },
    {
     "name": "stdout",
     "output_type": "stream",
     "text": [
      "Patient-level AF status (True means patient has AF): [ True  True  True  True  True  True  True  True  True  True  True  True\n",
      "  True  True  True  True  True  True  True  True  True  True  True]\n",
      "Counts - Patients with AF: 23, Patients without AF: 0\n",
      "Cannot perform robust stratified split due to insufficient class representation at patient level for the given test_size.\n",
      "Consider a larger dataset, different test_size, or cross-validation for more robust evaluation if one class of patients is too rare.\n",
      "Falling back to random split for now, but be aware of potential imbalance in the test set.\n",
      "Split into 18 training records and 5 testing records.\n"
     ]
    },
    {
     "name": "stderr",
     "output_type": "stream",
     "text": [
      "Preprocessing train set: 100%|████████████████████████████████████████████████████████████████████████████████████████| 18/18 [00:13<00:00,  1.35it/s]\n"
     ]
    },
    {
     "name": "stdout",
     "output_type": "stream",
     "text": [
      "Saved 131848 segments for train set to 'processed_patient_split/'\n"
     ]
    },
    {
     "name": "stderr",
     "output_type": "stream",
     "text": [
      "Preprocessing test set: 100%|███████████████████████████████████████████████████████████████████████████████████████████| 5/5 [00:03<00:00,  1.42it/s]\n"
     ]
    },
    {
     "name": "stdout",
     "output_type": "stream",
     "text": [
      "Saved 36820 segments for test set to 'processed_patient_split/'\n",
      "Data preprocessing with patient-aware split complete.\n",
      "\n",
      "--- Original Label Distribution in Patient-Split Sets (After Stratification Attempt) ---\n",
      "Train Set Original Labels (segment-level):\n",
      "  Label 'AF': 54793 segments\n",
      "  Label 'N': 77055 segments\n",
      "\n",
      "Test Set Original Labels (segment-level):\n",
      "  Label 'AF': 13903 segments\n",
      "  Label 'N': 22917 segments\n",
      "\n",
      "Train Set Binary AF/Non-AF Distribution (segment-level, True means AF):\n",
      "False    1.0\n",
      "Name: proportion, dtype: float64\n",
      "False    131848\n",
      "Name: count, dtype: int64\n",
      "\n",
      "Test Set Binary AF/Non-AF Distribution (segment-level, True means AF):\n",
      "False    1.0\n",
      "Name: proportion, dtype: float64\n",
      "False    36820\n",
      "Name: count, dtype: int64\n",
      "\n",
      "WARNING: The test set (after segment processing) contains only one class for AF/Non-AF.\n",
      "This will lead to issues with metrics like AUC and potentially with model evaluation.\n",
      "Consider adjusting your patient split strategy or using cross-validation if this is unavoidable with a small dataset.\n"
     ]
    }
   ],
   "source": [
    "# 2. Setup ZIP and extraction dir\n",
    "#zip_path = '/content/mit-bih-atrial-fibrillation-database-1.0.0.zip'\n",
    "zip_path = 'mit-bih-atrial-fibrillation-database-1.0.0.zip'\n",
    "data_dir = 'afdb'\n",
    "\n",
    "# Extract if needed (Your existing extraction logic is fine here)\n",
    "if not os.path.isdir(data_dir):\n",
    "    if not zipfile.is_zipfile(zip_path):\n",
    "        raise RuntimeError(\n",
    "            f\"Uploaded file '{zip_path}' is not a valid ZIP.\\\\n\"\n",
    "            \"Upload the correct AFDB ZIP containing .dat, .hea, .atr files.\"\n",
    "        )\n",
    "    with zipfile.ZipFile(zip_path, 'r') as z:\n",
    "        z.extractall(data_dir)\n",
    "    print(f\"Extracted '{zip_path}' to '{data_dir}/'\")\n",
    "else:\n",
    "    print(f\"Using existing directory '{data_dir}/'\")\n",
    "\n",
    "# 3. Recursively find .dat files and corresponding base paths\n",
    "# This gives us a list of (record_base_name, directory_path)\n",
    "record_info_list = []\n",
    "for root, dirs, files in os.walk(data_dir):\n",
    "    for file in files:\n",
    "        if file.endswith('.dat'):\n",
    "            rec_base = os.path.splitext(file)[0]\n",
    "            rec_dir = root\n",
    "            record_info_list.append({'rec_base': rec_base, 'rec_dir': rec_dir, 'rec_id': rec_base}) # Assuming rec_base is a unique patient identifier\n",
    "\n",
    "if not record_info_list:\n",
    "    raise RuntimeError(\n",
    "        f\"No .dat files found under '{data_dir}/'. Check that the ZIP contains the raw ECG .dat recordings.\"\n",
    "    )\n",
    "print(f\"Found {len(record_info_list)} records with .dat files.\")\n",
    "\n",
    "# --- START: REPLACEMENT FOR PATIENT-AWARE SPLIT (NOW STRATIFIED) ---\n",
    "# --- REVISED: Stratified Patient-Aware Train/Test Split ---\n",
    "# 1. Determine a patient-level label (does the patient have ANY AF segments based on aux_note?)\n",
    "patient_level_has_af = []\n",
    "for rec_info in tqdm(record_info_list, desc=\"Determining patient-level AF status for stratification\"):\n",
    "    rec_path = os.path.join(rec_info['rec_dir'], rec_info['rec_base'])\n",
    "    has_af_in_record = False\n",
    "    try:\n",
    "        ann = wfdb.rdann(rec_path, 'atr')\n",
    "        # Check aux_note for rhythm annotations\n",
    "        if any('(AFIB' in note.strip() or '(AFL' in note.strip() for note in ann.aux_note):\n",
    "            has_af_in_record = True\n",
    "    except Exception as e:\n",
    "        print(f\"Could not process annotations for {rec_path} for stratification: {e}\")\n",
    "    patient_level_has_af.append(has_af_in_record)\n",
    "\n",
    "patient_level_has_af = np.array(patient_level_has_af)\n",
    "print(f\"Patient-level AF status (True means patient has AF): {patient_level_has_af}\")\n",
    "print(f\"Counts - Patients with AF: {np.sum(patient_level_has_af)}, Patients without AF: {len(patient_level_has_af) - np.sum(patient_level_has_af)}\")\n",
    "\n",
    "# ... (the rest of your train_test_split logic using this revised patient_level_has_af) ...\n",
    "# (Keep the can_stratify check and the train_test_split call as you had it from my previous response)\n",
    "\n",
    "\n",
    "# Check if stratification is possible\n",
    "unique_patient_classes, counts_patient_classes = np.unique(patient_level_has_af, return_counts=True)\n",
    "# Stratification requires at least 2 samples for each class in the smallest set (test set if test_size < 0.5)\n",
    "# A common rule of thumb for train_test_split is n_splits samples per class.\n",
    "# Given test_size=0.2 (5 patients in test for 23 total), we need at least 1 AF and 1 Non-AF patient in test.\n",
    "# So, we need at least a few AF patients overall.\n",
    "# Let's simplify: ensure there are at least 2 patients in the minority class overall for stratification to attempt.\n",
    "can_stratify = all(count >= 2 for count in counts_patient_classes) and len(unique_patient_classes) > 1\n",
    "\n",
    "if can_stratify:\n",
    "    print(\"Attempting stratified split at patient level.\")\n",
    "    train_records_info, test_records_info = train_test_split(\n",
    "        record_info_list,\n",
    "        test_size=0.2, # Adjust as needed\n",
    "        stratify=patient_level_has_af, # Stratify based on patient-level AF status\n",
    "        random_state=42\n",
    "    )\n",
    "else:\n",
    "    print(\"Cannot perform robust stratified split due to insufficient class representation at patient level for the given test_size.\")\n",
    "    print(\"Consider a larger dataset, different test_size, or cross-validation for more robust evaluation if one class of patients is too rare.\")\n",
    "    print(\"Falling back to random split for now, but be aware of potential imbalance in the test set.\")\n",
    "    train_records_info, test_records_info = train_test_split(\n",
    "        record_info_list,\n",
    "        test_size=0.2,\n",
    "        random_state=42\n",
    "    )\n",
    "\n",
    "print(f\"Split into {len(train_records_info)} training records and {len(test_records_info)} testing records.\")\n",
    "# --- END: REPLACEMENT FOR PATIENT-AWARE SPLIT (NOW STRATIFIED) ---\n",
    "\n",
    "\n",
    "# 4. Filtering parameters and definitions (Your existing code is fine)\n",
    "FS = 250  # Hz\n",
    "WINDOW_SEC = 5\n",
    "WINSZ = WINDOW_SEC * FS\n",
    "\n",
    "def butter_bandpass(lowcut, highcut, fs, order=3):\n",
    "    nyq = 0.5 * fs\n",
    "    return butter(order, [lowcut/nyq, highcut/nyq], btype='band')\n",
    "\n",
    "def bandpass_filter(sig, lowcut=0.5, highcut=40.0, fs=FS, order=3):\n",
    "    b, a = butter_bandpass(lowcut, highcut, fs, order)\n",
    "    return filtfilt(b, a, sig)\n",
    "\n",
    "# 5. Segmentation + normalization (Your existing code is fine)\n",
    "def segment_and_normalize(sig):\n",
    "    n = len(sig) // WINSZ\n",
    "    segments = []\n",
    "    for i in range(n):\n",
    "        w = sig[i*WINSZ:(i+1)*WINSZ]\n",
    "        if np.std(w) == 0: # Avoid division by zero for flat segments\n",
    "            segments.append(w - np.mean(w))\n",
    "        else:\n",
    "            segments.append((w - np.mean(w)) / np.std(w))\n",
    "    return np.stack(segments) if segments else np.array([])\n",
    "\n",
    "\n",
    "# 6. Label extraction (REVISED for Rhythm-Based Labeling)\n",
    "\n",
    "def get_rhythm_label_for_segment(ann_samples, ann_aux_notes, segment_start_sample, segment_end_sample):\n",
    "    \"\"\"\n",
    "    Determines the rhythm label for a given segment.\n",
    "    Prioritizes AFIB/AFL if they occur anywhere in the segment's rhythm annotations.\n",
    "    Otherwise, takes the rhythm active at the start of the segment.\n",
    "    \"\"\"\n",
    "    relevant_rhythm_ann_indices = np.where((ann_samples < segment_end_sample))[0]\n",
    "\n",
    "    current_rhythm = 'N' # Default to Normal or Non-AF\n",
    "    found_specific_rhythm = False\n",
    "\n",
    "    if len(relevant_rhythm_ann_indices) > 0:\n",
    "        # Iterate backwards through annotations affecting the segment or starting before it\n",
    "        for i in reversed(relevant_rhythm_ann_indices):\n",
    "            ann_time = ann_samples[i]\n",
    "            note = ann_aux_notes[i].strip() # Ensure to strip whitespace\n",
    "\n",
    "            if ann_time < segment_end_sample : # This annotation is active before or during the segment\n",
    "                if note == '(AFIB' or note == '(AFL':\n",
    "                    # If AFIB/AFL starts before or within this segment and ends after segment starts\n",
    "                    # Check if this rhythm covers the segment\n",
    "                    next_ann_time = float('inf')\n",
    "                    if i + 1 < len(ann_samples):\n",
    "                        next_ann_time = ann_samples[i+1]\n",
    "\n",
    "                    # If this rhythm (AFIB/AFL) is active at any point within the segment\n",
    "                    if ann_time < segment_end_sample and next_ann_time > segment_start_sample:\n",
    "                        return 'AF' # Label segment as AF\n",
    "\n",
    "                if not found_specific_rhythm and ann_time <= segment_start_sample:\n",
    "                    # This is the rhythm active at the start of the segment if no AF found yet\n",
    "                    if note == '(N':\n",
    "                        current_rhythm = 'N'\n",
    "                    elif note == '(VT': # Ventricular Tachycardia\n",
    "                        current_rhythm = 'VT' # Example, add others as needed\n",
    "                    # Add other rhythm types if necessary\n",
    "                    else:\n",
    "                        current_rhythm = 'OTHER' # A generic \"other rhythm\"\n",
    "                    found_specific_rhythm = True # Found the rhythm at segment start\n",
    "\n",
    "    # If after checking all relevant annotations, no AF was found covering the segment,\n",
    "    # return the rhythm that was active at the start of the segment, or default.\n",
    "    # For binary, we simplify: if not AF, then NonAF (represented by 'N' here)\n",
    "    if current_rhythm != 'AF': # This check might be redundant if AF is returned directly\n",
    "        return 'N' # Or a more general NonAF label\n",
    "    return current_rhythm # Should be 'AF' if reached here\n",
    "\n",
    "# Define the map_to_is_af function here, before it's called\n",
    "def map_to_is_af(original_labels_array):\n",
    "    return np.isin(original_labels_array, ['AFIB', 'AFL'])\n",
    "\n",
    "\n",
    "# 7. Process records (Modified to create separate train/test sets)\n",
    "os.makedirs('processed_patient_split', exist_ok=True)\n",
    "\n",
    "def process_records(records_info_list, set_name):\n",
    "    all_segments_for_set = []\n",
    "    all_labels_for_set = []\n",
    "    all_record_ids_for_set = [] # To keep track of which patient each segment belongs to (optional, but good for debugging)\n",
    "\n",
    "    for rec_info in tqdm(records_info_list, desc=f'Preprocessing {set_name} set'):\n",
    "        rec_path = os.path.join(rec_info['rec_dir'], rec_info['rec_base'])\n",
    "        try:\n",
    "            record = wfdb.rdrecord(rec_path)\n",
    "            ann = wfdb.rdann(rec_path, 'atr')\n",
    "        except Exception as e:\n",
    "            print(f\"Error reading record {rec_path}: {e}\")\n",
    "            continue\n",
    "\n",
    "        raw = record.p_signal[:, 0]\n",
    "        filt = bandpass_filter(raw)\n",
    "        segs = segment_and_normalize(filt)\n",
    "\n",
    "        if segs.shape[0] > 0:\n",
    "            # --- MODIFIED LABELING CALL ---\n",
    "            # Ensure ann.sample and ann.aux_note are numpy arrays for efficiency if large\n",
    "            np_ann_sample = np.array(ann.sample)\n",
    "            np_ann_aux_note = np.array(ann.aux_note)\n",
    "\n",
    "            labels = [get_rhythm_label_for_segment(np_ann_sample, np_ann_aux_note,\n",
    "                                                   i*WINSZ, (i+1)*WINSZ)\n",
    "                      for i in range(segs.shape[0])]\n",
    "            # --- END OF MODIFIED LABELING CALL ---\n",
    "            all_segments_for_set.append(segs)\n",
    "            all_labels_for_set.extend(labels)\n",
    "            all_record_ids_for_set.extend([rec_info['rec_id']] * len(segs))\n",
    "# ... rest of process_records ...\n",
    "\n",
    "    if not all_segments_for_set: # Handle case where no segments are generated\n",
    "        return np.array([]), np.array([]), np.array([])\n",
    "\n",
    "    final_segments = np.vstack(all_segments_for_set)\n",
    "    final_labels = np.array(all_labels_for_set)\n",
    "    final_record_ids = np.array(all_record_ids_for_set)\n",
    "\n",
    "    np.save(f'processed_patient_split/{set_name}_segments.npy', final_segments)\n",
    "    np.save(f'processed_patient_split/{set_name}_labels.npy', final_labels)\n",
    "    np.save(f'processed_patient_split/{set_name}_record_ids.npy', final_record_ids) # Optional\n",
    "    print(f\"Saved {final_segments.shape[0]} segments for {set_name} set to 'processed_patient_split/'\")\n",
    "    return final_segments, final_labels, final_record_ids\n",
    "\n",
    "# Process training records\n",
    "train_segments, train_labels, train_record_ids = process_records(train_records_info, 'train')\n",
    "# Process testing records\n",
    "test_segments, test_labels, test_record_ids = process_records(test_records_info, 'test')\n",
    "\n",
    "print(\"Data preprocessing with patient-aware split complete.\")\n",
    "\n",
    "\n",
    "# --- START: INSERTION FOR CLASS DISTRIBUTION VERIFICATION ---\n",
    "print(\"\\n--- Original Label Distribution in Patient-Split Sets (After Stratification Attempt) ---\")\n",
    "\n",
    "# Ensure train_labels and test_labels are not empty before proceeding\n",
    "if train_labels.size > 0:\n",
    "    unique_train_labels, counts_train_labels = np.unique(train_labels, return_counts=True)\n",
    "    print(\"Train Set Original Labels (segment-level):\")\n",
    "    for label, count in zip(unique_train_labels, counts_train_labels):\n",
    "        print(f\"  Label '{label}': {count} segments\")\n",
    "else:\n",
    "    print(\"Train set has no labels (train_labels is empty).\")\n",
    "\n",
    "if test_labels.size > 0:\n",
    "    unique_test_labels, counts_test_labels = np.unique(test_labels, return_counts=True)\n",
    "    print(\"\\nTest Set Original Labels (segment-level):\")\n",
    "    for label, count in zip(unique_test_labels, counts_test_labels):\n",
    "        print(f\"  Label '{label}': {count} segments\")\n",
    "else:\n",
    "    print(\"Test set has no labels (test_labels is empty).\")\n",
    "\n",
    "\n",
    "# Map to binary AF/Non-AF to check distribution for y_true\n",
    "# Now the function map_to_is_af is defined above this block\n",
    "if train_labels.size > 0:\n",
    "    train_is_af_dist = map_to_is_af(train_labels)\n",
    "    print(\"\\nTrain Set Binary AF/Non-AF Distribution (segment-level, True means AF):\")\n",
    "    print(pd.Series(train_is_af_dist).value_counts(normalize=True))\n",
    "    print(pd.Series(train_is_af_dist).value_counts())\n",
    "else:\n",
    "    print(\"Train set is empty for binary distribution check.\")\n",
    "\n",
    "if test_labels.size > 0:\n",
    "    test_is_af_dist = map_to_is_af(test_labels)\n",
    "    print(\"\\nTest Set Binary AF/Non-AF Distribution (segment-level, True means AF):\")\n",
    "    print(pd.Series(test_is_af_dist).value_counts(normalize=True))\n",
    "    print(pd.Series(test_is_af_dist).value_counts())\n",
    "\n",
    "    # Crucial check for the test set having both classes\n",
    "    if len(np.unique(test_is_af_dist)) < 2:\n",
    "        print(\"\\nWARNING: The test set (after segment processing) contains only one class for AF/Non-AF.\")\n",
    "        print(\"This will lead to issues with metrics like AUC and potentially with model evaluation.\")\n",
    "        print(\"Consider adjusting your patient split strategy or using cross-validation if this is unavoidable with a small dataset.\")\n",
    "    else:\n",
    "        print(\"\\nTest set contains both AF and Non-AF segments after processing.\")\n",
    "else:\n",
    "    print(\"Test set is empty for binary distribution check.\")\n",
    "# --- END: INSERTION FOR CLASS DISTRIBUTION VERIFICATION ---"
   ]
  },
  {
   "cell_type": "code",
   "execution_count": 15,
   "metadata": {
    "id": "SlUSUnlxKhVR"
   },
   "outputs": [],
   "source": [
    "# # 1. EDA: load data and plot\n",
    "# import numpy as np\n",
    "# import matplotlib.pyplot as plt\n",
    "# from wfdb import processing\n"
   ]
  },
  {
   "cell_type": "code",
   "execution_count": 16,
   "metadata": {
    "id": "D73bqpEvKcTU"
   },
   "outputs": [],
   "source": [
    "# # Load preprocessed segments and labels\n",
    "# segments = np.load('processed/segments.npy')  # shape (N, 1250)\n",
    "# labels   = np.load('processed/labels.npy')    # shape (N,)\n",
    "\n",
    "# # Map labels to two classes: AF vs Non-AF\n",
    "# is_af = np.isin(labels, ['AFIB', 'AFL'])\n",
    "\n",
    "# # 1.1 Plot random raw & filtered windows\n",
    "# idx = np.random.choice(len(segments), 4, replace=False)\n",
    "# fig, axes = plt.subplots(2, 2, figsize=(12, 6))\n",
    "# for ax, i in zip(axes.flatten(), idx):\n",
    "#     ax.plot(segments[i])\n",
    "#     ax.set_title(f\"Segment {i} – {'AF' if is_af[i] else 'Non-AF'}\")\n",
    "#     ax.set_xlabel(\"Sample (5 s @250 Hz)\")\n",
    "# plt.tight_layout()\n",
    "# plt.show()\n",
    "\n",
    "# # 1.2 Amplitude distribution\n",
    "# plt.figure(figsize=(6,4))\n",
    "# plt.hist(segments.flatten(), bins=100, density=True)\n",
    "# plt.title(\"Histogram of Z-scored ECG Samples\")\n",
    "# plt.xlabel(\"Amplitude (z-score)\")\n",
    "# plt.ylabel(\"Density\")\n",
    "# plt.show()\n",
    "\n",
    "# # 1.3 RR-interval histogram for a sample segment\n",
    "# # Detect R-peaks on one segment\n",
    "# signal = segments[idx[0]]\n",
    "# peaks = processing.gqrs_detect(sig=signal, fs=250)\n",
    "# rr_intervals = np.diff(peaks) / 250.0  # in seconds\n",
    "\n",
    "# plt.figure(figsize=(6,4))\n",
    "# plt.hist(rr_intervals, bins=30)\n",
    "# plt.title(\"RR-Interval Distribution (Sample Segment)\")\n",
    "# plt.xlabel(\"RR Interval (s)\")\n",
    "# plt.ylabel(\"Count\")\n",
    "# plt.show()\n",
    "\n",
    "# # 1.4 Class balance\n",
    "# import pandas as pd\n",
    "# counts = pd.Series(is_af).map({False:'Non-AF', True:'AF'}).value_counts()\n",
    "# counts.plot.bar(figsize=(4,4))\n",
    "# plt.title(\"AF vs Non-AF Segment Counts\")\n",
    "# plt.ylabel(\"Number of Segments\")\n",
    "# plt.show()"
   ]
  },
  {
   "cell_type": "code",
   "execution_count": 17,
   "metadata": {
    "id": "d1bqyhUAfBcR"
   },
   "outputs": [
    {
     "data": {
      "image/png": "[encoded data removed]",
      "text/plain": [
       "<Figure size 400x400 with 1 Axes>"
      ]
     },
     "metadata": {},
     "output_type": "display_data"
    },
    {
     "data": {
      "image/png": "[encoded data removed]",
      "text/plain": [
       "<Figure size 400x400 with 1 Axes>"
      ]
     },
     "metadata": {},
     "output_type": "display_data"
    },
    {
     "name": "stderr",
     "output_type": "stream",
     "text": [
      "Extracting features for TRAIN set: 100%|██████████████████████████████████████████████████████████████████████| 131848/131848 [24:47<00:00, 88.62it/s]\n",
      "Extracting features for TEST set: 100%|█████████████████████████████████████████████████████████████████████████| 36820/36820 [07:02<00:00, 87.06it/s]\n"
     ]
    },
    {
     "name": "stdout",
     "output_type": "stream",
     "text": [
      "X_train_feat_df shape before NaN drop: (131848, 5)\n",
      "X_train_feat_df shape after NaN drop: (131747, 5)\n",
      "X_test_feat_df shape before NaN drop: (36820, 5)\n",
      "X_test_feat_df shape after NaN drop: (36800, 5)\n",
      "Feature extraction complete.\n"
     ]
    },
    {
     "data": {
      "text/html": [
       "<div>\n",
       "<style scoped>\n",
       "    .dataframe tbody tr th:only-of-type {\n",
       "        vertical-align: middle;\n",
       "    }\n",
       "\n",
       "    .dataframe tbody tr th {\n",
       "        vertical-align: top;\n",
       "    }\n",
       "\n",
       "    .dataframe thead th {\n",
       "        text-align: right;\n",
       "    }\n",
       "</style>\n",
       "<table border=\"1\" class=\"dataframe\">\n",
       "  <thead>\n",
       "    <tr style=\"text-align: right;\">\n",
       "      <th></th>\n",
       "      <th>mean_rr</th>\n",
       "      <th>sdnn</th>\n",
       "      <th>rmssd</th>\n",
       "      <th>cv_rr</th>\n",
       "      <th>power</th>\n",
       "    </tr>\n",
       "  </thead>\n",
       "  <tbody>\n",
       "    <tr>\n",
       "      <th>0</th>\n",
       "      <td>0.614667</td>\n",
       "      <td>0.015731</td>\n",
       "      <td>0.015073</td>\n",
       "      <td>0.025593</td>\n",
       "      <td>0.864387</td>\n",
       "    </tr>\n",
       "    <tr>\n",
       "      <th>1</th>\n",
       "      <td>0.611333</td>\n",
       "      <td>0.014624</td>\n",
       "      <td>0.011027</td>\n",
       "      <td>0.023922</td>\n",
       "      <td>0.873469</td>\n",
       "    </tr>\n",
       "    <tr>\n",
       "      <th>2</th>\n",
       "      <td>0.622667</td>\n",
       "      <td>0.014010</td>\n",
       "      <td>0.013856</td>\n",
       "      <td>0.022499</td>\n",
       "      <td>0.818226</td>\n",
       "    </tr>\n",
       "    <tr>\n",
       "      <th>3</th>\n",
       "      <td>0.614667</td>\n",
       "      <td>0.015731</td>\n",
       "      <td>0.012394</td>\n",
       "      <td>0.025593</td>\n",
       "      <td>0.934080</td>\n",
       "    </tr>\n",
       "    <tr>\n",
       "      <th>4</th>\n",
       "      <td>0.616000</td>\n",
       "      <td>0.021166</td>\n",
       "      <td>0.022509</td>\n",
       "      <td>0.034360</td>\n",
       "      <td>1.075735</td>\n",
       "    </tr>\n",
       "  </tbody>\n",
       "</table>\n",
       "</div>"
      ],
      "text/plain": [
       "    mean_rr      sdnn     rmssd     cv_rr     power\n",
       "0  0.614667  0.015731  0.015073  0.025593  0.864387\n",
       "1  0.611333  0.014624  0.011027  0.023922  0.873469\n",
       "2  0.622667  0.014010  0.013856  0.022499  0.818226\n",
       "3  0.614667  0.015731  0.012394  0.025593  0.934080\n",
       "4  0.616000  0.021166  0.022509  0.034360  1.075735"
      ]
     },
     "execution_count": 17,
     "metadata": {},
     "output_type": "execute_result"
    }
   ],
   "source": [
    "# --- EDA: Load data and plot (Adjust as needed) ---\n",
    "# You'll now load the patient-split data. For EDA, you might combine them\n",
    "# or analyze train/test separately.\n",
    "# For now, let's assume segments and labels variables are for training for EDA visualization purposes if needed.\n",
    "# Or, load 'train_segments.npy' and 'train_labels.npy' for EDA\n",
    "segments_for_eda = np.load('processed_patient_split/train_segments.npy')\n",
    "labels_for_eda = np.load('processed_patient_split/train_labels.npy')\n",
    "\n",
    "# Map labels to two classes: AF vs Non-AF\n",
    "# IMPORTANT: Apply this mapping consistently to train_labels and test_labels\n",
    "# In your EDA / Feature Extraction section\n",
    "def map_to_is_af(original_labels_array):\n",
    "    # Assuming get_rhythm_label_for_segment returns 'AF' for atrial fibrillation\n",
    "    return np.isin(original_labels_array, ['AF'])\n",
    "\n",
    "train_is_af = map_to_is_af(train_labels)\n",
    "test_is_af = map_to_is_af(test_labels)\n",
    "\n",
    "# (Your EDA plotting code can go here, using segments_for_eda and corresponding mapped labels)\n",
    "# Example: Class balance for training set\n",
    "counts_train = pd.Series(train_is_af).map({False:'Non-AF', True:'AF'}).value_counts()\n",
    "counts_train.plot.bar(figsize=(4,4))\n",
    "plt.title(\"Train Set: AF vs Non-AF Segment Counts\")\n",
    "plt.ylabel(\"Number of Segments\")\n",
    "plt.show()\n",
    "\n",
    "counts_test = pd.Series(test_is_af).map({False:'Non-AF', True:'AF'}).value_counts()\n",
    "counts_test.plot.bar(figsize=(4,4))\n",
    "plt.title(\"Test Set: AF vs Non-AF Segment Counts\")\n",
    "plt.ylabel(\"Number of Segments\")\n",
    "plt.show()\n",
    "\n",
    "\n",
    "# --- Feature Extraction (Modified) ---\n",
    "# Ensure wfdb is imported if this cell is run independently\n",
    "# from wfdb import processing # Already imported earlier\n",
    "\n",
    "def extract_features(seg, fs=250):\n",
    "    # Your existing extract_features function (ensure it handles empty segs or few peaks)\n",
    "    peaks = processing.gqrs_detect(sig=seg, fs=fs)\n",
    "    if len(peaks) < 2:\n",
    "        return {\n",
    "            'mean_rr': np.nan, 'sdnn': np.nan,\n",
    "            'rmssd': np.nan,   'cv_rr': np.nan,\n",
    "            'power': np.nan\n",
    "        }\n",
    "    rr = np.diff(peaks) / fs\n",
    "    mean_rr = np.mean(rr)\n",
    "    sdnn    = np.std(rr, ddof=1) if len(rr) > 1 else np.nan\n",
    "    rmssd   = np.sqrt(np.mean(np.diff(rr)**2)) if len(rr) > 1 else np.nan\n",
    "    cv_rr   = (sdnn / mean_rr) if mean_rr != 0 and not np.isnan(sdnn) else np.nan # Avoid division by zero\n",
    "    f, Pxx = welch(seg, fs=fs, nperseg=min(len(seg), 256)) # nperseg should not exceed segment length\n",
    "    mask = (f >= 0.5) & (f <= 40)\n",
    "    power = trapezoid(Pxx[mask], f[mask]) if np.any(mask) and Pxx[mask].size > 0 else np.nan\n",
    "    return {\n",
    "        'mean_rr': mean_rr, 'sdnn': sdnn, 'rmssd': rmssd,\n",
    "        'cv_rr': cv_rr, 'power': power\n",
    "    }\n",
    "\n",
    "# Build DataFrame of features for TRAIN set\n",
    "train_features_list = []\n",
    "for seg in tqdm(train_segments, desc=\"Extracting features for TRAIN set\"):\n",
    "    train_features_list.append(extract_features(seg))\n",
    "X_train_feat_df = pd.DataFrame(train_features_list)\n",
    "y_train_rf = train_is_af.astype(int) # Target for RF\n",
    "\n",
    "# Build DataFrame of features for TEST set\n",
    "test_features_list = []\n",
    "for seg in tqdm(test_segments, desc=\"Extracting features for TEST set\"):\n",
    "    test_features_list.append(extract_features(seg))\n",
    "X_test_feat_df = pd.DataFrame(test_features_list)\n",
    "y_test_rf = test_is_af.astype(int) # Target for RF\n",
    "\n",
    "# --- IMPORTANT: Handle NaNs in features ---\n",
    "# Either impute or drop rows with NaNs. For simplicity, let's drop them for now.\n",
    "# This should be done consistently for train and test based on train set's NaNs\n",
    "# or by dropping from both.\n",
    "print(f\"X_train_feat_df shape before NaN drop: {X_train_feat_df.shape}\")\n",
    "X_train_feat_df = X_train_feat_df.assign(AF=y_train_rf).dropna()\n",
    "y_train_rf = X_train_feat_df['AF']\n",
    "X_train_feat_df = X_train_feat_df.drop(columns='AF')\n",
    "print(f\"X_train_feat_df shape after NaN drop: {X_train_feat_df.shape}\")\n",
    "\n",
    "\n",
    "print(f\"X_test_feat_df shape before NaN drop: {X_test_feat_df.shape}\")\n",
    "X_test_feat_df = X_test_feat_df.assign(AF=y_test_rf).dropna()\n",
    "y_test_rf = X_test_feat_df['AF']\n",
    "X_test_feat_df = X_test_feat_df.drop(columns='AF')\n",
    "print(f\"X_test_feat_df shape after NaN drop: {X_test_feat_df.shape}\")\n",
    "\n",
    "\n",
    "print(\"Feature extraction complete.\")\n",
    "X_train_feat_df.head()"
   ]
  },
  {
   "cell_type": "markdown",
   "metadata": {
    "id": "F77X2tiGK3Cl"
   },
   "source": [
    "# Feature Extraction"
   ]
  },
  {
   "cell_type": "code",
   "execution_count": 18,
   "metadata": {
    "id": "QNnmBNR2LBpt"
   },
   "outputs": [],
   "source": [
    "# # 2. Feature Extraction: time-domain & frequency-domain\n",
    "# import numpy as np\n",
    "# import pandas as pd\n",
    "# from scipy.signal import welch\n",
    "# from scipy.integrate import trapezoid\n",
    "# from wfdb import processing\n"
   ]
  },
  {
   "cell_type": "code",
   "execution_count": 19,
   "metadata": {
    "id": "bkRnOTPdK97Y"
   },
   "outputs": [],
   "source": [
    "\n",
    "# def extract_features(seg, fs=250):\n",
    "#     \"\"\"\n",
    "#     Extract time- and frequency-domain features from a single 1D ECG segment.\n",
    "#     Returns a dict with:\n",
    "#       - mean_rr, sdnn, rmssd, cv_rr  (time-domain HRV)\n",
    "#       - power                       (spectral power 0.5–40 Hz)\n",
    "#     \"\"\"\n",
    "#     # 1. R-peak detection\n",
    "#     peaks = processing.gqrs_detect(sig=seg, fs=fs)\n",
    "\n",
    "#     # If fewer than 2 peaks, HRV metrics undefined\n",
    "#     if len(peaks) < 2:\n",
    "#         return {\n",
    "#             'mean_rr': np.nan, 'sdnn': np.nan,\n",
    "#             'rmssd': np.nan,   'cv_rr': np.nan,\n",
    "#             'power': np.nan\n",
    "#         }\n",
    "\n",
    "#     # 2. RR intervals in seconds\n",
    "#     rr = np.diff(peaks) / fs\n",
    "\n",
    "#     # Time-domain features\n",
    "#     mean_rr = np.mean(rr)\n",
    "#     sdnn    = np.std(rr, ddof=1) if len(rr) > 1 else np.nan\n",
    "#     rmssd   = np.sqrt(np.mean(np.diff(rr)**2)) if len(rr) > 1 else np.nan\n",
    "#     cv_rr   = (sdnn / mean_rr) if mean_rr and not np.isnan(sdnn) else np.nan\n",
    "\n",
    "#     # 3. Frequency-domain: PSD via Welch\n",
    "#     f, Pxx = welch(seg, fs=fs, nperseg=256)\n",
    "#     mask = (f >= 0.5) & (f <= 40)\n",
    "#     power = trapezoid(Pxx[mask], f[mask])\n",
    "\n",
    "#     return {\n",
    "#         'mean_rr': mean_rr,\n",
    "#         'sdnn':    sdnn,\n",
    "#         'rmssd':   rmssd,\n",
    "#         'cv_rr':   cv_rr,\n",
    "#         'power':   power\n",
    "#     }\n",
    "\n",
    "# # Build DataFrame of features\n",
    "# features = []\n",
    "# for seg in segments:\n",
    "#     features.append(extract_features(seg))\n",
    "\n",
    "# df_feat = pd.DataFrame(features)\n",
    "# df_feat['AF'] = is_af.astype(int)\n",
    "\n",
    "# df_feat.head()\n"
   ]
  },
  {
   "cell_type": "markdown",
   "metadata": {
    "id": "2Dn13nClPGe8"
   },
   "source": [
    "# Baseline Model Training"
   ]
  },
  {
   "cell_type": "markdown",
   "metadata": {
    "id": "nRZ5sjN4PRUp"
   },
   "source": [
    "**Classical ML (Random Forest)**"
   ]
  },
  {
   "cell_type": "code",
   "execution_count": 20,
   "metadata": {
    "id": "mBr05H3fPL5u"
   },
   "outputs": [],
   "source": [
    "# # Train/test split\n",
    "# from sklearn.model_selection import train_test_split\n",
    "# X_train, X_test, y_train, y_test = train_test_split(\n",
    "#     df_feat.drop(columns='AF'), df_feat['AF'],\n",
    "#     test_size=0.2, stratify=df_feat['AF'], random_state=42\n",
    "# )\n",
    "\n",
    "# # Pipeline & model\n",
    "# from sklearn.ensemble import RandomForestClassifier\n",
    "# from sklearn.preprocessing import StandardScaler\n",
    "# from sklearn.pipeline import Pipeline\n",
    "\n",
    "# pipe = Pipeline([\n",
    "#     ('scaler', StandardScaler()),\n",
    "#     ('rf', RandomForestClassifier(n_estimators=100, random_state=42))\n",
    "# ])\n",
    "\n",
    "# pipe.fit(X_train, y_train)\n"
   ]
  },
  {
   "cell_type": "code",
   "execution_count": 21,
   "metadata": {
    "id": "OyL1_XGbfeiA"
   },
   "outputs": [
    {
     "name": "stdout",
     "output_type": "stream",
     "text": [
      "Random Forest training complete.\n",
      "Shape of y_test_rf: (36800,)\n",
      "Shape of X_test_feat_df: (36800, 5)\n",
      "\n",
      "Random Forest Classification Report:\n",
      "              precision    recall  f1-score   support\n",
      "\n",
      "           0       0.74      0.82      0.78     22902\n",
      "           1       0.64      0.52      0.57     13898\n",
      "\n",
      "    accuracy                           0.71     36800\n",
      "   macro avg       0.69      0.67      0.68     36800\n",
      "weighted avg       0.70      0.71      0.70     36800\n",
      "\n",
      "Random Forest AUC: 0.762257551396297\n"
     ]
    },
    {
     "data": {
      "image/png": "[encoded data removed]",
      "text/plain": [
       "<Figure size 400x400 with 2 Axes>"
      ]
     },
     "metadata": {},
     "output_type": "display_data"
    }
   ],
   "source": [
    "# --- Train/test split (This is ALREADY DONE at patient level for features) ---\n",
    "# We now use the pre-split feature DataFrames\n",
    "# X_train, X_test, y_train, y_test = train_test_split(...) # This line is removed/commented\n",
    "\n",
    "# Pipeline & model (Your existing pipeline is fine)\n",
    "from sklearn.ensemble import RandomForestClassifier\n",
    "from sklearn.preprocessing import StandardScaler\n",
    "from sklearn.pipeline import Pipeline\n",
    "\n",
    "# Ensure there's data left after NaN drop\n",
    "if X_train_feat_df.empty or X_test_feat_df.empty:\n",
    "    print(\"Training or testing feature DataFrame is empty after NaN drop. Cannot proceed.\")\n",
    "else:\n",
    "    pipe = Pipeline([\n",
    "        ('scaler', StandardScaler()),\n",
    "        ('rf', RandomForestClassifier(n_estimators=100, random_state=42, class_weight='balanced')) # Added class_weight\n",
    "    ])\n",
    "\n",
    "    pipe.fit(X_train_feat_df, y_train_rf)\n",
    "    print(\"Random Forest training complete.\")\n",
    "\n",
    "    # Model Evaluation for Random Forest\n",
    "    from sklearn.metrics import classification_report, confusion_matrix, roc_auc_score\n",
    "    import matplotlib.pyplot as plt  # Import matplotlib\n",
    "\n",
    "    y_pred_rf = pipe.predict(X_test_feat_df)\n",
    "\n",
    "    # Debugging: Print shapes\n",
    "    print(\"Shape of y_test_rf:\", y_test_rf.shape)\n",
    "    print(\"Shape of X_test_feat_df:\", X_test_feat_df.shape)\n",
    "\n",
    "    try:\n",
    "        y_pred_proba_rf = pipe.predict_proba(X_test_feat_df)[:, 1] # For AUC\n",
    "\n",
    "        print(\"\\nRandom Forest Classification Report:\")\n",
    "        print(classification_report(y_test_rf, y_pred_rf))\n",
    "        print(\"Random Forest AUC:\", roc_auc_score(y_test_rf, y_pred_proba_rf))\n",
    "\n",
    "        cm_rf = confusion_matrix(y_test_rf, y_pred_rf, normalize='true')\n",
    "        plt.figure(figsize=(4,4))\n",
    "        plt.imshow(cm_rf, cmap='Blues', interpolation='nearest')\n",
    "        plt.title(\"RF Confusion Matrix (Normalized)\")\n",
    "        plt.colorbar()\n",
    "        plt.xticks([0,1], ['Non-AF','AF'])\n",
    "        plt.yticks([0,1], ['Non-AF','AF'])\n",
    "        for i in range(cm_rf.shape[0]):\n",
    "            for j in range(cm_rf.shape[1]):\n",
    "                plt.text(j, i, format(cm_rf[i, j], '.2f'),\n",
    "                         ha=\"center\", va=\"center\",\n",
    "                         color=\"white\" if cm_rf[i, j] > 0.5 else \"black\")\n",
    "        plt.ylabel('True')\n",
    "        plt.xlabel('Pred')\n",
    "        plt.show()\n",
    "\n",
    "    except IndexError as e:\n",
    "        print(f\"IndexError during predict_proba: {e}\")\n",
    "        print(\"Shape of predict_proba output:\", pipe.predict_proba(X_test_feat_df).shape) # Print the shape to debug\n",
    "        # Optionally, print the first few rows of the output to inspect its structure\n",
    "        print(\"First few rows of predict_proba output:\", pipe.predict_proba(X_test_feat_df)[:5])"
   ]
  },
  {
   "cell_type": "markdown",
   "metadata": {
    "id": "RX1ess2RPXmU"
   },
   "source": [
    "**1D CNN (Keras)**"
   ]
  },
  {
   "cell_type": "code",
   "execution_count": 22,
   "metadata": {
    "id": "KIjeMfcVPccI"
   },
   "outputs": [],
   "source": [
    "# # Prepare raw segments for CNN\n",
    "# import tensorflow as tf\n",
    "# from tensorflow.keras import layers, models\n",
    "\n",
    "# # One-hot labels\n",
    "# y = tf.keras.utils.to_categorical(is_af.astype(int), num_classes=2)\n",
    "\n",
    "# # Shuffle & split\n",
    "# idx = np.random.permutation(len(segments))\n",
    "# split = int(0.8 * len(idx))\n",
    "# train_idx, test_idx = idx[:split], idx[split:]\n",
    "\n",
    "# X_train, X_test = segments[train_idx][..., np.newaxis], segments[test_idx][..., np.newaxis]\n",
    "# y_train, y_test = y[train_idx], y[test_idx]\n",
    "\n",
    "# # Build CNN\n",
    "# model = models.Sequential([\n",
    "#     layers.Conv1D(32, 5, activation='relu', input_shape=(1250,1)),\n",
    "#     layers.MaxPool1D(2),\n",
    "#     layers.Conv1D(64, 5, activation='relu'),\n",
    "#     layers.MaxPool1D(2),\n",
    "#     layers.Flatten(),\n",
    "#     layers.Dense(64, activation='relu'),\n",
    "#     layers.Dropout(0.5),\n",
    "#     layers.Dense(2, activation='softmax'),\n",
    "# ])\n",
    "\n",
    "# model.compile(optimizer='adam',\n",
    "#               loss='categorical_crossentropy',\n",
    "#               metrics=['accuracy'])\n",
    "\n",
    "# model.summary()\n",
    "# history = model.fit(X_train, y_train, epochs=5, batch_size=32,\n",
    "#           validation_data=(X_test, y_test))\n",
    "\n"
   ]
  },
  {
   "cell_type": "code",
   "execution_count": 23,
   "metadata": {
    "id": "rC-ixNOJfh-P"
   },
   "outputs": [
    {
     "name": "stdout",
     "output_type": "stream",
     "text": [
      "X_train_cnn shape: (131848, 1250, 1), y_train_cnn shape: (131848, 2)\n",
      "X_test_cnn shape: (36820, 1250, 1), y_test_cnn shape: (36820, 2)\n"
     ]
    },
    {
     "name": "stderr",
     "output_type": "stream",
     "text": [
      "/Users/animesh/miniforge3/envs/tfmac/lib/python3.9/site-packages/keras/src/layers/convolutional/base_conv.py:107: UserWarning: Do not pass an `input_shape`/`input_dim` argument to a layer. When using Sequential models, prefer using an `Input(shape)` object as the first layer in the model instead.\n",
      "  super().__init__(activity_regularizer=activity_regularizer, **kwargs)\n",
      "2025-05-11 16:52:31.073617: I metal_plugin/src/device/metal_device.cc:1154] Metal device set to: Apple M2\n",
      "2025-05-11 16:52:31.074003: I metal_plugin/src/device/metal_device.cc:296] systemMemory: 8.00 GB\n",
      "2025-05-11 16:52:31.074302: I metal_plugin/src/device/metal_device.cc:313] maxCacheSize: 2.67 GB\n",
      "2025-05-11 16:52:31.074498: I tensorflow/core/common_runtime/pluggable_device/pluggable_device_factory.cc:305] Could not identify NUMA node of platform GPU ID 0, defaulting to 0. Your kernel may not have been built with NUMA support.\n",
      "2025-05-11 16:52:31.074961: I tensorflow/core/common_runtime/pluggable_device/pluggable_device_factory.cc:271] Created TensorFlow device (/job:localhost/replica:0/task:0/device:GPU:0 with 0 MB memory) -> physical PluggableDevice (device: 0, name: METAL, pci bus id: <undefined>)\n"
     ]
    },
    {
     "data": {
      "text/html": [
       "<pre style=\"white-space:pre;overflow-x:auto;line-height:normal;font-family:Menlo,'DejaVu Sans Mono',consolas,'Courier New',monospace\"><span style=\"font-weight: bold\">Model: \"sequential\"</span>\n",
       "</pre>\n"
      ],
      "text/plain": [
       "\u001b[1mModel: \"sequential\"\u001b[0m\n"
      ]
     },
     "metadata": {},
     "output_type": "display_data"
    },
    {
     "data": {
      "text/html": [
       "<pre style=\"white-space:pre;overflow-x:auto;line-height:normal;font-family:Menlo,'DejaVu Sans Mono',consolas,'Courier New',monospace\">┏━━━━━━━━━━━━━━━━━━━━━━━━━━━━━━━━━┳━━━━━━━━━━━━━━━━━━━━━━━━┳━━━━━━━━━━━━━━━┓\n",
       "┃<span style=\"font-weight: bold\"> Layer (type)                    </span>┃<span style=\"font-weight: bold\"> Output Shape           </span>┃<span style=\"font-weight: bold\">       Param # </span>┃\n",
       "┡━━━━━━━━━━━━━━━━━━━━━━━━━━━━━━━━━╇━━━━━━━━━━━━━━━━━━━━━━━━╇━━━━━━━━━━━━━━━┩\n",
       "│ conv1d (<span style=\"color: #0087ff; text-decoration-color: #0087ff\">Conv1D</span>)                 │ (<span style=\"color: #00d7ff; text-decoration-color: #00d7ff\">None</span>, <span style=\"color: #00af00; text-decoration-color: #00af00\">1246</span>, <span style=\"color: #00af00; text-decoration-color: #00af00\">32</span>)       │           <span style=\"color: #00af00; text-decoration-color: #00af00\">192</span> │\n",
       "├─────────────────────────────────┼────────────────────────┼───────────────┤\n",
       "│ max_pooling1d (<span style=\"color: #0087ff; text-decoration-color: #0087ff\">MaxPooling1D</span>)    │ (<span style=\"color: #00d7ff; text-decoration-color: #00d7ff\">None</span>, <span style=\"color: #00af00; text-decoration-color: #00af00\">623</span>, <span style=\"color: #00af00; text-decoration-color: #00af00\">32</span>)        │             <span style=\"color: #00af00; text-decoration-color: #00af00\">0</span> │\n",
       "├─────────────────────────────────┼────────────────────────┼───────────────┤\n",
       "│ conv1d_1 (<span style=\"color: #0087ff; text-decoration-color: #0087ff\">Conv1D</span>)               │ (<span style=\"color: #00d7ff; text-decoration-color: #00d7ff\">None</span>, <span style=\"color: #00af00; text-decoration-color: #00af00\">619</span>, <span style=\"color: #00af00; text-decoration-color: #00af00\">64</span>)        │        <span style=\"color: #00af00; text-decoration-color: #00af00\">10,304</span> │\n",
       "├─────────────────────────────────┼────────────────────────┼───────────────┤\n",
       "│ max_pooling1d_1 (<span style=\"color: #0087ff; text-decoration-color: #0087ff\">MaxPooling1D</span>)  │ (<span style=\"color: #00d7ff; text-decoration-color: #00d7ff\">None</span>, <span style=\"color: #00af00; text-decoration-color: #00af00\">309</span>, <span style=\"color: #00af00; text-decoration-color: #00af00\">64</span>)        │             <span style=\"color: #00af00; text-decoration-color: #00af00\">0</span> │\n",
       "├─────────────────────────────────┼────────────────────────┼───────────────┤\n",
       "│ flatten (<span style=\"color: #0087ff; text-decoration-color: #0087ff\">Flatten</span>)               │ (<span style=\"color: #00d7ff; text-decoration-color: #00d7ff\">None</span>, <span style=\"color: #00af00; text-decoration-color: #00af00\">19776</span>)          │             <span style=\"color: #00af00; text-decoration-color: #00af00\">0</span> │\n",
       "├─────────────────────────────────┼────────────────────────┼───────────────┤\n",
       "│ dense (<span style=\"color: #0087ff; text-decoration-color: #0087ff\">Dense</span>)                   │ (<span style=\"color: #00d7ff; text-decoration-color: #00d7ff\">None</span>, <span style=\"color: #00af00; text-decoration-color: #00af00\">64</span>)             │     <span style=\"color: #00af00; text-decoration-color: #00af00\">1,265,728</span> │\n",
       "├─────────────────────────────────┼────────────────────────┼───────────────┤\n",
       "│ dropout (<span style=\"color: #0087ff; text-decoration-color: #0087ff\">Dropout</span>)               │ (<span style=\"color: #00d7ff; text-decoration-color: #00d7ff\">None</span>, <span style=\"color: #00af00; text-decoration-color: #00af00\">64</span>)             │             <span style=\"color: #00af00; text-decoration-color: #00af00\">0</span> │\n",
       "├─────────────────────────────────┼────────────────────────┼───────────────┤\n",
       "│ dense_1 (<span style=\"color: #0087ff; text-decoration-color: #0087ff\">Dense</span>)                 │ (<span style=\"color: #00d7ff; text-decoration-color: #00d7ff\">None</span>, <span style=\"color: #00af00; text-decoration-color: #00af00\">2</span>)              │           <span style=\"color: #00af00; text-decoration-color: #00af00\">130</span> │\n",
       "└─────────────────────────────────┴────────────────────────┴───────────────┘\n",
       "</pre>\n"
      ],
      "text/plain": [
       "┏━━━━━━━━━━━━━━━━━━━━━━━━━━━━━━━━━┳━━━━━━━━━━━━━━━━━━━━━━━━┳━━━━━━━━━━━━━━━┓\n",
       "┃\u001b[1m \u001b[0m\u001b[1mLayer (type)                   \u001b[0m\u001b[1m \u001b[0m┃\u001b[1m \u001b[0m\u001b[1mOutput Shape          \u001b[0m\u001b[1m \u001b[0m┃\u001b[1m \u001b[0m\u001b[1m      Param #\u001b[0m\u001b[1m \u001b[0m┃\n",
       "┡━━━━━━━━━━━━━━━━━━━━━━━━━━━━━━━━━╇━━━━━━━━━━━━━━━━━━━━━━━━╇━━━━━━━━━━━━━━━┩\n",
       "│ conv1d (\u001b[38;5;33mConv1D\u001b[0m)                 │ (\u001b[38;5;45mNone\u001b[0m, \u001b[38;5;34m1246\u001b[0m, \u001b[38;5;34m32\u001b[0m)       │           \u001b[38;5;34m192\u001b[0m │\n",
       "├─────────────────────────────────┼────────────────────────┼───────────────┤\n",
       "│ max_pooling1d (\u001b[38;5;33mMaxPooling1D\u001b[0m)    │ (\u001b[38;5;45mNone\u001b[0m, \u001b[38;5;34m623\u001b[0m, \u001b[38;5;34m32\u001b[0m)        │             \u001b[38;5;34m0\u001b[0m │\n",
       "├─────────────────────────────────┼────────────────────────┼───────────────┤\n",
       "│ conv1d_1 (\u001b[38;5;33mConv1D\u001b[0m)               │ (\u001b[38;5;45mNone\u001b[0m, \u001b[38;5;34m619\u001b[0m, \u001b[38;5;34m64\u001b[0m)        │        \u001b[38;5;34m10,304\u001b[0m │\n",
       "├─────────────────────────────────┼────────────────────────┼───────────────┤\n",
       "│ max_pooling1d_1 (\u001b[38;5;33mMaxPooling1D\u001b[0m)  │ (\u001b[38;5;45mNone\u001b[0m, \u001b[38;5;34m309\u001b[0m, \u001b[38;5;34m64\u001b[0m)        │             \u001b[38;5;34m0\u001b[0m │\n",
       "├─────────────────────────────────┼────────────────────────┼───────────────┤\n",
       "│ flatten (\u001b[38;5;33mFlatten\u001b[0m)               │ (\u001b[38;5;45mNone\u001b[0m, \u001b[38;5;34m19776\u001b[0m)          │             \u001b[38;5;34m0\u001b[0m │\n",
       "├─────────────────────────────────┼────────────────────────┼───────────────┤\n",
       "│ dense (\u001b[38;5;33mDense\u001b[0m)                   │ (\u001b[38;5;45mNone\u001b[0m, \u001b[38;5;34m64\u001b[0m)             │     \u001b[38;5;34m1,265,728\u001b[0m │\n",
       "├─────────────────────────────────┼────────────────────────┼───────────────┤\n",
       "│ dropout (\u001b[38;5;33mDropout\u001b[0m)               │ (\u001b[38;5;45mNone\u001b[0m, \u001b[38;5;34m64\u001b[0m)             │             \u001b[38;5;34m0\u001b[0m │\n",
       "├─────────────────────────────────┼────────────────────────┼───────────────┤\n",
       "│ dense_1 (\u001b[38;5;33mDense\u001b[0m)                 │ (\u001b[38;5;45mNone\u001b[0m, \u001b[38;5;34m2\u001b[0m)              │           \u001b[38;5;34m130\u001b[0m │\n",
       "└─────────────────────────────────┴────────────────────────┴───────────────┘\n"
      ]
     },
     "metadata": {},
     "output_type": "display_data"
    },
    {
     "data": {
      "text/html": [
       "<pre style=\"white-space:pre;overflow-x:auto;line-height:normal;font-family:Menlo,'DejaVu Sans Mono',consolas,'Courier New',monospace\"><span style=\"font-weight: bold\"> Total params: </span><span style=\"color: #00af00; text-decoration-color: #00af00\">1,276,354</span> (4.87 MB)\n",
       "</pre>\n"
      ],
      "text/plain": [
       "\u001b[1m Total params: \u001b[0m\u001b[38;5;34m1,276,354\u001b[0m (4.87 MB)\n"
      ]
     },
     "metadata": {},
     "output_type": "display_data"
    },
    {
     "data": {
      "text/html": [
       "<pre style=\"white-space:pre;overflow-x:auto;line-height:normal;font-family:Menlo,'DejaVu Sans Mono',consolas,'Courier New',monospace\"><span style=\"font-weight: bold\"> Trainable params: </span><span style=\"color: #00af00; text-decoration-color: #00af00\">1,276,354</span> (4.87 MB)\n",
       "</pre>\n"
      ],
      "text/plain": [
       "\u001b[1m Trainable params: \u001b[0m\u001b[38;5;34m1,276,354\u001b[0m (4.87 MB)\n"
      ]
     },
     "metadata": {},
     "output_type": "display_data"
    },
    {
     "data": {
      "text/html": [
       "<pre style=\"white-space:pre;overflow-x:auto;line-height:normal;font-family:Menlo,'DejaVu Sans Mono',consolas,'Courier New',monospace\"><span style=\"font-weight: bold\"> Non-trainable params: </span><span style=\"color: #00af00; text-decoration-color: #00af00\">0</span> (0.00 B)\n",
       "</pre>\n"
      ],
      "text/plain": [
       "\u001b[1m Non-trainable params: \u001b[0m\u001b[38;5;34m0\u001b[0m (0.00 B)\n"
      ]
     },
     "metadata": {},
     "output_type": "display_data"
    },
    {
     "name": "stdout",
     "output_type": "stream",
     "text": [
      "Epoch 1/50\n"
     ]
    },
    {
     "name": "stderr",
     "output_type": "stream",
     "text": [
      "2025-05-11 16:52:41.968357: I tensorflow/core/grappler/optimizers/custom_graph_optimizer_registry.cc:117] Plugin optimizer for device_type GPU is enabled.\n"
     ]
    },
    {
     "name": "stdout",
     "output_type": "stream",
     "text": [
      "\u001b[1m4121/4121\u001b[0m \u001b[32m━━━━━━━━━━━━━━━━━━━━\u001b[0m\u001b[37m\u001b[0m \u001b[1m122s\u001b[0m 28ms/step - accuracy: 0.7464 - loss: 0.5620 - val_accuracy: 0.7279 - val_loss: 0.6451\n",
      "Epoch 2/50\n",
      "\u001b[1m4121/4121\u001b[0m \u001b[32m━━━━━━━━━━━━━━━━━━━━\u001b[0m\u001b[37m\u001b[0m \u001b[1m103s\u001b[0m 25ms/step - accuracy: 0.8853 - loss: 0.3282 - val_accuracy: 0.5805 - val_loss: 2.2517\n",
      "Epoch 3/50\n",
      "\u001b[1m4121/4121\u001b[0m \u001b[32m━━━━━━━━━━━━━━━━━━━━\u001b[0m\u001b[37m\u001b[0m \u001b[1m98s\u001b[0m 24ms/step - accuracy: 0.7455 - loss: 2.4252 - val_accuracy: 0.6584 - val_loss: 5.4405\n",
      "Epoch 4/50\n",
      "\u001b[1m4121/4121\u001b[0m \u001b[32m━━━━━━━━━━━━━━━━━━━━\u001b[0m\u001b[37m\u001b[0m \u001b[1m107s\u001b[0m 26ms/step - accuracy: 0.6864 - loss: 4.9974 - val_accuracy: 0.5977 - val_loss: 6.4303\n",
      "Epoch 5/50\n",
      "\u001b[1m4121/4121\u001b[0m \u001b[32m━━━━━━━━━━━━━━━━━━━━\u001b[0m\u001b[37m\u001b[0m \u001b[1m125s\u001b[0m 30ms/step - accuracy: 0.6711 - loss: 5.2782 - val_accuracy: 0.5970 - val_loss: 6.4659\n",
      "Epoch 6/50\n",
      "\u001b[1m4121/4121\u001b[0m \u001b[32m━━━━━━━━━━━━━━━━━━━━\u001b[0m\u001b[37m\u001b[0m \u001b[1m98s\u001b[0m 24ms/step - accuracy: 0.6500 - loss: 5.6279 - val_accuracy: 0.5067 - val_loss: 7.9362\n",
      "CNN training complete.\n",
      "\u001b[1m1151/1151\u001b[0m \u001b[32m━━━━━━━━━━━━━━━━━━━━\u001b[0m\u001b[37m\u001b[0m \u001b[1m5s\u001b[0m 4ms/step\n",
      "\n",
      "CNN Classification Report:\n",
      "              precision    recall  f1-score   support\n",
      "\n",
      "           0       0.81      0.73      0.77     22917\n",
      "           1       0.62      0.73      0.67     13903\n",
      "\n",
      "    accuracy                           0.73     36820\n",
      "   macro avg       0.72      0.73      0.72     36820\n",
      "weighted avg       0.74      0.73      0.73     36820\n",
      "\n",
      "CNN AUC: 0.8314859598393549\n"
     ]
    },
    {
     "data": {
      "image/png": "[encoded data removed]",
      "text/plain": [
       "<Figure size 400x400 with 2 Axes>"
      ]
     },
     "metadata": {},
     "output_type": "display_data"
    },
    {
     "data": {
      "image/png": "[encoded data removed]",
      "text/plain": [
       "<Figure size 600x400 with 1 Axes>"
      ]
     },
     "metadata": {},
     "output_type": "display_data"
    },
    {
     "data": {
      "image/png": "[encoded data removed]",
      "text/plain": [
       "<Figure size 600x400 with 1 Axes>"
      ]
     },
     "metadata": {},
     "output_type": "display_data"
    }
   ],
   "source": [
    "# --- Prepare raw segments for CNN (Modified) ---\n",
    "# We use the patient-aware splits: train_segments and test_segments\n",
    "# And the corresponding binary labels: train_is_af and test_is_af\n",
    "\n",
    "# Ensure segments are not empty\n",
    "if train_segments.size == 0 or test_segments.size == 0:\n",
    "    print(\"Training or testing segments array is empty. Cannot proceed with CNN.\")\n",
    "else:\n",
    "    X_train_cnn = train_segments[..., np.newaxis] # Add channel dimension\n",
    "    X_test_cnn = test_segments[..., np.newaxis]   # Add channel dimension\n",
    "\n",
    "    # One-hot labels\n",
    "    y_train_cnn = tf.keras.utils.to_categorical(train_is_af.astype(int), num_classes=2)\n",
    "    y_test_cnn = tf.keras.utils.to_categorical(test_is_af.astype(int), num_classes=2)\n",
    "\n",
    "    print(f\"X_train_cnn shape: {X_train_cnn.shape}, y_train_cnn shape: {y_train_cnn.shape}\")\n",
    "    print(f\"X_test_cnn shape: {X_test_cnn.shape}, y_test_cnn shape: {y_test_cnn.shape}\")\n",
    "\n",
    "\n",
    "    # Build CNN (Your existing model architecture is fine)\n",
    "    model_cnn = models.Sequential([\n",
    "        layers.Conv1D(32, 5, activation='relu', input_shape=(X_train_cnn.shape[1], 1)), # (1250,1)\n",
    "        layers.MaxPool1D(2),\n",
    "        layers.Conv1D(64, 5, activation='relu'),\n",
    "        layers.MaxPool1D(2),\n",
    "        layers.Flatten(),\n",
    "        layers.Dense(64, activation='relu'),\n",
    "        layers.Dropout(0.5),\n",
    "        layers.Dense(2, activation='softmax'),\n",
    "    ])\n",
    "\n",
    "    model_cnn.compile(optimizer='adam',\n",
    "                  loss='categorical_crossentropy',\n",
    "                  metrics=['accuracy'])\n",
    "\n",
    "    model_cnn.summary()\n",
    "\n",
    "    # Consider class weights for imbalanced data for the CNN as well\n",
    "    # from sklearn.utils import class_weight\n",
    "    # class_weights_cnn = class_weight.compute_class_weight('balanced',\n",
    "    #                                                     classes=np.unique(train_is_af.astype(int)),\n",
    "    #                                                     y=train_is_af.astype(int))\n",
    "    # class_weights_cnn_dict = dict(enumerate(class_weights_cnn))\n",
    "    # print(f\"CNN Class Weights: {class_weights_cnn_dict}\")\n",
    "\n",
    "    history_cnn = model_cnn.fit(X_train_cnn, y_train_cnn, epochs=50, batch_size=32,\n",
    "                                validation_data=(X_test_cnn, y_test_cnn),\n",
    "                                # class_weight=class_weights_cnn_dict # Optional: add class weights\n",
    "                                callbacks=[tf.keras.callbacks.EarlyStopping(patience=5, restore_best_weights=True)] # Early stopping\n",
    "                               )\n",
    "    print(\"CNN training complete.\")\n",
    "\n",
    "    # CNN evaluation\n",
    "    cnn_preds_proba = model_cnn.predict(X_test_cnn)\n",
    "    cnn_preds = cnn_preds_proba.argmax(axis=1)\n",
    "    y_test_cnn_labels = y_test_cnn.argmax(axis=1) # Convert one-hot back to labels for classification_report\n",
    "\n",
    "    print(\"\\nCNN Classification Report:\")\n",
    "    print(classification_report(y_test_cnn_labels, cnn_preds))\n",
    "    print(\"CNN AUC:\", roc_auc_score(y_test_cnn, cnn_preds_proba))\n",
    "\n",
    "\n",
    "    cm_cnn = confusion_matrix(y_test_cnn_labels, cnn_preds, normalize='true')\n",
    "    plt.figure(figsize=(4,4))\n",
    "    plt.imshow(cm_cnn, cmap='Blues', interpolation='nearest')\n",
    "    plt.title(\"CNN Confusion Matrix (Normalized)\")\n",
    "    plt.colorbar()\n",
    "    plt.xticks([0,1], ['Non-AF','AF'])\n",
    "    plt.yticks([0,1], ['Non-AF','AF'])\n",
    "    for i in range(cm_cnn.shape[0]):\n",
    "        for j in range(cm_cnn.shape[1]):\n",
    "            plt.text(j, i, format(cm_cnn[i, j], '.2f'),\n",
    "                     ha=\"center\", va=\"center\",\n",
    "                     color=\"white\" if cm_cnn[i, j] > 0.5 else \"black\")\n",
    "    plt.ylabel('True')\n",
    "    plt.xlabel('Pred')\n",
    "    plt.show()\n",
    "\n",
    "    # Learning curves (CNN)\n",
    "    hist_cnn_dict = history_cnn.history\n",
    "    plt.figure(figsize=(6,4))\n",
    "    plt.plot(hist_cnn_dict['loss'], label='train loss')\n",
    "    plt.plot(hist_cnn_dict['val_loss'], label='val loss')\n",
    "    plt.title(\"CNN Learning Curves - Loss\")\n",
    "    plt.xlabel(\"Epoch\")\n",
    "    plt.ylabel(\"Loss\")\n",
    "    plt.legend()\n",
    "    plt.show()\n",
    "\n",
    "    plt.figure(figsize=(6,4))\n",
    "    plt.plot(hist_cnn_dict['accuracy'], label='train accuracy')\n",
    "    plt.plot(hist_cnn_dict['val_accuracy'], label='val accuracy')\n",
    "    plt.title(\"CNN Learning Curves - Accuracy\")\n",
    "    plt.xlabel(\"Epoch\")\n",
    "    plt.ylabel(\"Accuracy\")\n",
    "    plt.legend()\n",
    "    plt.show()"
   ]
  },
  {
   "cell_type": "markdown",
   "metadata": {
    "id": "Say21WrLPm4D"
   },
   "source": [
    "# Model Evaluation & Validation"
   ]
  },
  {
   "cell_type": "markdown",
   "metadata": {
    "id": "I21Rb4IuPrAh"
   },
   "source": [
    "**Classical ML evaluation**"
   ]
  },
  {
   "cell_type": "code",
   "execution_count": 24,
   "metadata": {
    "id": "xYC3hBN3PqPH"
   },
   "outputs": [],
   "source": [
    "# from sklearn.metrics import classification_report, confusion_matrix, roc_auc_score\n",
    "# import matplotlib.pyplot as plt\n",
    "\n",
    "# # Assuming 'df_feat' contains the features used for training the Random Forest\n",
    "# # Select the same test indices used for CNN to create a new X_test for the Random Forest\n",
    "# X_test_rf = df_feat.drop(columns='AF').iloc[test_idx]\n",
    "\n",
    "# # Now predict using the feature dataframe\n",
    "# y_pred = pipe.predict(X_test_rf)\n",
    "\n",
    "# print(classification_report(y_test.argmax(axis=1), y_pred))\n",
    "\n",
    "# cm = confusion_matrix(y_test.argmax(axis=1), y_pred, normalize='true')  # Use argmax here\n",
    "# plt.figure(figsize=(4,4))\n",
    "# plt.imshow(cm, cmap='Blues')\n",
    "# plt.title(\"RF Confusion Matrix\")\n",
    "# plt.colorbar()\n",
    "# plt.xticks([0,1], ['Non-AF','AF'])\n",
    "# plt.yticks([0,1], ['Non-AF','AF'])\n",
    "# plt.ylabel('True')\n",
    "# plt.xlabel('Pred')\n",
    "# plt.show()"
   ]
  },
  {
   "cell_type": "markdown",
   "metadata": {
    "id": "K_mQ90YUPxNW"
   },
   "source": [
    "**CNN evaluation**"
   ]
  },
  {
   "cell_type": "code",
   "execution_count": 25,
   "metadata": {
    "id": "ms82aJGjP2AV"
   },
   "outputs": [],
   "source": [
    "# # Assuming 'history' is the variable holding the training history from model.fit()\n",
    "\n",
    "# # CNN evaluation\n",
    "# cnn_preds = model.predict(X_test).argmax(axis=1)\n",
    "# print(classification_report(y_test.argmax(axis=1), cnn_preds))\n",
    "# print(\"CNN AUC:\", roc_auc_score(y_test, model.predict(X_test)))\n",
    "\n",
    "# # 4.3 Learning curves (CNN)\n",
    "# hist = history.history  # Access history from the 'history' object\n",
    "# plt.figure(figsize=(6,4))\n",
    "# plt.plot(hist['loss'], label='train loss')\n",
    "# plt.plot(hist['val_loss'], label='val loss')\n",
    "# plt.title(\"CNN Learning Curves\")\n",
    "# plt.xlabel(\"Epoch\")\n",
    "# plt.ylabel(\"Loss\")\n",
    "# plt.legend()\n",
    "# plt.show()"
   ]
  }
 ],
 "metadata": {
  "accelerator": "GPU",
  "colab": {
   "gpuType": "T4",
   "provenance": []
  },
  "kernelspec": {
   "display_name": "Python 3",
   "language": "python",
   "name": "python3"
  },
  "language_info": {
   "codemirror_mode": {
    "name": "ipython",
    "version": 3
   },
   "file_extension": ".py",
   "mimetype": "text/x-python",
   "name": "python",
   "nbconvert_exporter": "python",
   "pygments_lexer": "ipython3",
   "version": "3.13.1"
  }
 },
 "nbformat": 4,
 "nbformat_minor": 4
}
